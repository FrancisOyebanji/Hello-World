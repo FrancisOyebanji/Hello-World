{
  "nbformat": 4,
  "nbformat_minor": 0,
  "metadata": {
    "colab": {
      "provenance": [],
      "include_colab_link": true
    },
    "kernelspec": {
      "name": "python3",
      "display_name": "Python 3"
    },
    "language_info": {
      "name": "python"
    }
  },
  "cells": [
    {
      "cell_type": "markdown",
      "metadata": {
        "id": "view-in-github",
        "colab_type": "text"
      },
      "source": [
        "<a href=\"https://colab.research.google.com/github/FrancisOyebanji/Hello-World/blob/master/trainf.ipynb\" target=\"_parent\"><img src=\"https://colab.research.google.com/assets/colab-badge.svg\" alt=\"Open In Colab\"/></a>"
      ]
    },
    {
      "cell_type": "code",
      "execution_count": null,
      "metadata": {
        "id": "Au_DDE2oRXpa"
      },
      "outputs": [],
      "source": [
        "def myAtoi(s):\n",
        "\n",
        "  # base condition\n",
        "  if s is None or len(s) == 1:\n",
        "    print('A')\n",
        "    return s\n",
        "  int_max = 2147483647\n",
        "  int_min = -2147483647\n",
        "    \n",
        "  # Trimmed strip\n",
        "    \n",
        "  s = s.lstrip()\n",
        "  s = str(s)\n",
        "  print(s)\n",
        "  # counter\n",
        "  i = 0\n",
        "\n",
        "  isNegative = len(s) > 1 and s[0] == '-'\n",
        "  isPositive = len(s) > 1 and s[0] == '+'\n",
        "\n",
        "  if isNegative:\n",
        "    i += 1\n",
        "  elif isPositive:\n",
        "    i += 1\n",
        "\n",
        "  #this will store the converted number \n",
        "  number = 0\n",
        "  # loop for each numeric character in the string iff numeric characters are leading\n",
        "\n",
        "  while i < len(s) and '0' <= s[i] <= '9':\n",
        "    number = number * 10 + (ord(s[i]) - ord('0'))\n",
        "    i += 1\n",
        "    print('A')\n",
        "\n",
        "  # Give back the sign to the number\n",
        "  if isNegative:\n",
        "    number  = -number\n",
        "\n",
        "  if number > int_max:\n",
        "    return int_max\n",
        "  if number < int_min:\n",
        "    return int_min\n",
        "\n",
        "  return number\n"
      ]
    },
    {
      "cell_type": "code",
      "source": [
        "print(myAtoi('12a14'))"
      ],
      "metadata": {
        "id": "7ihzVohobdb7",
        "outputId": "0c248448-ee19-4436-bca9-1c04143fde09",
        "colab": {
          "base_uri": "https://localhost:8080/"
        }
      },
      "execution_count": null,
      "outputs": [
        {
          "output_type": "stream",
          "name": "stdout",
          "text": [
            "12a14\n",
            "A\n",
            "A\n",
            "12\n"
          ]
        }
      ]
    },
    {
      "cell_type": "code",
      "source": [
        "# Lexicographically smallest beautiful string\n",
        "\n",
        "class Solution:\n",
        "  def smallestBeautifulString(self, s, k):\n",
        "    chars = list(s)\n",
        "\n",
        "    for i in reversed(range(len(chars))):\n",
        "      chars[i] = chr(ord(chars[i]) + 1)\n",
        "      while self._containsPalindrome(chars,i):\n",
        "        chars[i] = chr(ord(chars[i]) + 1)\n",
        "      \n",
        "      if chars[i] < chr(ord('a') + k):\n",
        "        return self._changeSuffix(chars, i + 1)\n",
        "\n",
        "    return ''\n",
        "\n",
        "  def _containsPalindrome(self, chars, i, ):\n",
        "    return (i > 0 and chars[i] == chars[i - 1]) or (i > 1 and chars[i - 2])\n",
        "\n",
        "  def _changeSuffix(self, chars, i):\n",
        "    for j in range(i, len(chars)):\n",
        "      chars[j] = 'a'\n",
        "      while self._containsPalindrome(chars, j):\n",
        "        chars[j] = chr(ord(chars[j]) + 1)\n",
        "    return ''.join(chars)\n"
      ],
      "metadata": {
        "id": "3MnnF6EDp_Zr"
      },
      "execution_count": null,
      "outputs": []
    },
    {
      "cell_type": "code",
      "source": [
        "solution = Solution()\n",
        "solution.smallestBeautifulString(sdsfnger, 2)"
      ],
      "metadata": {
        "id": "sVefz-wQrObk",
        "outputId": "29b67b62-ff40-4879-b74d-0d15c7aba4b7",
        "colab": {
          "base_uri": "https://localhost:8080/",
          "height": 184
        }
      },
      "execution_count": null,
      "outputs": [
        {
          "output_type": "error",
          "ename": "NameError",
          "evalue": "ignored",
          "traceback": [
            "\u001b[0;31m---------------------------------------------------------------------------\u001b[0m",
            "\u001b[0;31mNameError\u001b[0m                                 Traceback (most recent call last)",
            "\u001b[0;32m<ipython-input-10-b86e34d6d202>\u001b[0m in \u001b[0;36m<cell line: 2>\u001b[0;34m()\u001b[0m\n\u001b[1;32m      1\u001b[0m \u001b[0msolution\u001b[0m \u001b[0;34m=\u001b[0m \u001b[0mSolution\u001b[0m\u001b[0;34m(\u001b[0m\u001b[0;34m)\u001b[0m\u001b[0;34m\u001b[0m\u001b[0;34m\u001b[0m\u001b[0m\n\u001b[0;32m----> 2\u001b[0;31m \u001b[0msolution\u001b[0m\u001b[0;34m.\u001b[0m\u001b[0msmallestBeautifulString\u001b[0m\u001b[0;34m(\u001b[0m\u001b[0msdsfnger\u001b[0m\u001b[0;34m,\u001b[0m \u001b[0;36m2\u001b[0m\u001b[0;34m)\u001b[0m\u001b[0;34m\u001b[0m\u001b[0;34m\u001b[0m\u001b[0m\n\u001b[0m",
            "\u001b[0;31mNameError\u001b[0m: name 'sdsfnger' is not defined"
          ]
        }
      ]
    },
    {
      "cell_type": "code",
      "source": [
        "# Smallest Beautiful String\n",
        "\n",
        "class Solution:\n",
        "  def smallestBeautifulString(self, s: str, k: int) -> str:\n",
        "    chars = list(s)\n",
        "    print(chars)\n",
        "\n",
        "    for i in reversed(range(len(chars))):\n",
        "      chars[i] = chr(ord(chars[i]) + 1)\n",
        "      while self._containsPalindrome(chars, i):\n",
        "        chars[i] = chr(ord(chars[i]) + 1)\n",
        "      if chars[i] < chr(ord('a') + k):\n",
        "        # If s[i] is among the first k letters, then change the letters after\n",
        "        # s[i] to the smallest ones that don't form any palindrome substring.\n",
        "        return self._changeSuffix(chars, i + 1)\n",
        "\n",
        "    return ''\n",
        "\n",
        "  # Returns true if chars[0..i] contains palindrome.\n",
        "  def _containsPalindrome(self, chars, i: int) -> bool:\n",
        "    return (i > 0 and chars[i] == chars[i - 1]) or \\\n",
        "        (i > 1 and chars[i] == chars[i - 2])\n",
        "\n",
        "  # Returns string where chars[i..] replaced with the smallest letters that\n",
        "  # don't form any palindrome substring.\n",
        "  def _changeSuffix(self, chars, i: int) -> str:\n",
        "    for j in range(i, len(chars)):\n",
        "      chars[j] = 'a'\n",
        "      while self._containsPalindrome(chars, j):\n",
        "        chars[j] = chr(ord(chars[j]) + 1)\n",
        "    return ''.join(chars)\n"
      ],
      "metadata": {
        "id": "AYRHRXQw1s6G"
      },
      "execution_count": null,
      "outputs": []
    },
    {
      "cell_type": "code",
      "source": [
        "solution = Solution()\n",
        "solution.smallestBeautifulString([sdsfnger], 2)"
      ],
      "metadata": {
        "id": "shpdazCg15fU"
      },
      "execution_count": null,
      "outputs": []
    },
    {
      "cell_type": "code",
      "source": [
        "class Solution:\n",
        "  def firstCompleteIndex(self, arr, mat) -> int:\n",
        "    m = len(mat)\n",
        "    n = len(mat[0])\n",
        "    # rows[i] := # of painted grid in i-th row\n",
        "    rows = [0] * m\n",
        "    # cols[j] := # of painted grid in j-th col\n",
        "    cols = [0] * n\n",
        "    # numToRow[num] := i-th row of num in mat\n",
        "    numToRow = [0] * (m * n + 1)\n",
        "    # numToCol[num] := j-th col of num in mat\n",
        "    numToCol = [0] * (m * n + 1)\n",
        "\n",
        "    for i, row in enumerate(mat):\n",
        "      for j, num in enumerate(row):\n",
        "        numToRow[num] = i\n",
        "        numToCol[num] = j\n",
        "    print(numToRow)\n",
        "    for i, a in enumerate(arr):\n",
        "      rows[numToRow[a]] += 1\n",
        "      if rows[numToRow[a]] == n:\n",
        "        return i\n",
        "      cols[numToCol[a]] += 1\n",
        "      if cols[numToCol[a]] == m:\n",
        "        return i\n"
      ],
      "metadata": {
        "id": "p-CrfAggWbYb"
      },
      "execution_count": 23,
      "outputs": []
    },
    {
      "cell_type": "code",
      "source": [
        "solution = Solution()\n",
        "solution.firstCompleteIndex([1,3,5,7,9,2,4,6,8],[[1,2,3],[4,5,6],[7,8,9]])"
      ],
      "metadata": {
        "id": "ZHpKKsMqWpSA",
        "outputId": "68f5eec5-c85f-4646-8493-a10f8b2df968",
        "colab": {
          "base_uri": "https://localhost:8080/"
        }
      },
      "execution_count": 24,
      "outputs": [
        {
          "output_type": "stream",
          "name": "stdout",
          "text": [
            "[0, 0, 0, 0, 1, 1, 1, 2, 2, 2]\n"
          ]
        },
        {
          "output_type": "execute_result",
          "data": {
            "text/plain": [
              "5"
            ]
          },
          "metadata": {},
          "execution_count": 24
        }
      ]
    }
  ]
}