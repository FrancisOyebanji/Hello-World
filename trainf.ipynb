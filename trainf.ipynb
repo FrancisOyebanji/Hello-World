{
  "nbformat": 4,
  "nbformat_minor": 0,
  "metadata": {
    "colab": {
      "provenance": [],
      "include_colab_link": true
    },
    "kernelspec": {
      "name": "python3",
      "display_name": "Python 3"
    },
    "language_info": {
      "name": "python"
    }
  },
  "cells": [
    {
      "cell_type": "markdown",
      "metadata": {
        "id": "view-in-github",
        "colab_type": "text"
      },
      "source": [
        "<a href=\"https://colab.research.google.com/github/FrancisOyebanji/Hello-World/blob/master/trainf.ipynb\" target=\"_parent\"><img src=\"https://colab.research.google.com/assets/colab-badge.svg\" alt=\"Open In Colab\"/></a>"
      ]
    },
    {
      "cell_type": "code",
      "execution_count": 58,
      "metadata": {
        "id": "Au_DDE2oRXpa"
      },
      "outputs": [],
      "source": [
        "def myAtoi(s):\n",
        "\n",
        "  # base condition\n",
        "  if s is None or len(s) == 1:\n",
        "    print('A')\n",
        "    return s\n",
        "  int_max = 2147483647\n",
        "  int_min = -2147483647\n",
        "    \n",
        "  # Trimmed strip\n",
        "    \n",
        "  s = s.lstrip()\n",
        "  s = str(s)\n",
        "  print(s)\n",
        "  # counter\n",
        "  i = 0\n",
        "\n",
        "  isNegative = len(s) > 1 and s[0] == '-'\n",
        "  isPositive = len(s) > 1 and s[0] == '+'\n",
        "\n",
        "  if isNegative:\n",
        "    i += 1\n",
        "  elif isPositive:\n",
        "    i += 1\n",
        "\n",
        "  #this will store the converted number \n",
        "  number = 0\n",
        "  # loop for each numeric character in the string iff numeric characters are leading\n",
        "\n",
        "  while i < len(s) and '0' <= s[i] <= '9':\n",
        "    number = number * 10 + (ord(s[i]) - ord('0'))\n",
        "    i += 1\n",
        "    print('A')\n",
        "\n",
        "  # Give back the sign to the number\n",
        "  if isNegative:\n",
        "    number  = -number\n",
        "\n",
        "  if number > int_max:\n",
        "    return int_max\n",
        "  if number < int_min:\n",
        "    return int_min\n",
        "\n",
        "  return number\n"
      ]
    },
    {
      "cell_type": "code",
      "source": [
        "print(myAtoi('12a14'))"
      ],
      "metadata": {
        "id": "7ihzVohobdb7",
        "outputId": "d1aec9a3-cabc-405d-e18f-bcc00bfa0c94",
        "colab": {
          "base_uri": "https://localhost:8080/"
        }
      },
      "execution_count": 62,
      "outputs": [
        {
          "output_type": "stream",
          "name": "stdout",
          "text": [
            "12a14\n",
            "A\n",
            "A\n",
            "12\n"
          ]
        }
      ]
    }
  ]
}