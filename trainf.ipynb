{
  "nbformat": 4,
  "nbformat_minor": 0,
  "metadata": {
    "colab": {
      "provenance": [],
      "include_colab_link": true
    },
    "kernelspec": {
      "name": "python3",
      "display_name": "Python 3"
    },
    "language_info": {
      "name": "python"
    }
  },
  "cells": [
    {
      "cell_type": "markdown",
      "metadata": {
        "id": "view-in-github",
        "colab_type": "text"
      },
      "source": [
        "<a href=\"https://colab.research.google.com/github/FrancisOyebanji/Hello-World/blob/master/trainf.ipynb\" target=\"_parent\"><img src=\"https://colab.research.google.com/assets/colab-badge.svg\" alt=\"Open In Colab\"/></a>"
      ]
    },
    {
      "cell_type": "code",
      "execution_count": 1,
      "metadata": {
        "id": "Au_DDE2oRXpa"
      },
      "outputs": [],
      "source": [
        "#save"
      ]
    },
    {
      "cell_type": "code",
      "source": [
        "#test"
      ],
      "metadata": {
        "id": "7ihzVohobdb7"
      },
      "execution_count": null,
      "outputs": []
    }
  ]
}