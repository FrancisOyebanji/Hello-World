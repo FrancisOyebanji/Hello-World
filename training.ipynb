{
  "nbformat": 4,
  "nbformat_minor": 0,
  "metadata": {
    "colab": {
      "provenance": [],
      "include_colab_link": true
    },
    "kernelspec": {
      "name": "python3",
      "display_name": "Python 3"
    },
    "language_info": {
      "name": "python"
    }
  },
  "cells": [
    {
      "cell_type": "markdown",
      "metadata": {
        "id": "view-in-github",
        "colab_type": "text"
      },
      "source": [
        "<a href=\"https://colab.research.google.com/github/FrancisOyebanji/Hello-World/blob/master/training.ipynb\" target=\"_parent\"><img src=\"https://colab.research.google.com/assets/colab-badge.svg\" alt=\"Open In Colab\"/></a>"
      ]
    },
    {
      "cell_type": "code",
      "execution_count": null,
      "metadata": {
        "id": "Au_DDE2oRXpa"
      },
      "outputs": [],
      "source": [
        "def myAtoi(s):\n",
        "\n",
        "  # base condition\n",
        "  if s is None or len(s) == 1:\n",
        "    print('A')\n",
        "    return s\n",
        "  int_max = 2147483647\n",
        "  int_min = -2147483647\n",
        "    \n",
        "  # Trimmed strip\n",
        "    \n",
        "  s = s.lstrip()\n",
        "  s = str(s)\n",
        "  print(s)\n",
        "  # counter\n",
        "  i = 0\n",
        "\n",
        "  isNegative = len(s) > 1 and s[0] == '-'\n",
        "  isPositive = len(s) > 1 and s[0] == '+'\n",
        "\n",
        "  if isNegative:\n",
        "    i += 1\n",
        "  elif isPositive:\n",
        "    i += 1\n",
        "\n",
        "  #this will store the converted number \n",
        "  number = 0\n",
        "  # loop for each numeric character in the string iff numeric characters are leading\n",
        "\n",
        "  while i < len(s) and '0' <= s[i] <= '9':\n",
        "    number = number * 10 + (ord(s[i]) - ord('0'))\n",
        "    i += 1\n",
        "    print('A')\n",
        "\n",
        "  # Give back the sign to the number\n",
        "  if isNegative:\n",
        "    number  = -number\n",
        "\n",
        "  if number > int_max:\n",
        "    return int_max\n",
        "  if number < int_min:\n",
        "    return int_min\n",
        "\n",
        "  return number\n"
      ]
    },
    {
      "cell_type": "code",
      "source": [
        "print(myAtoi('12a14'))"
      ],
      "metadata": {
        "id": "7ihzVohobdb7",
        "outputId": "d1aec9a3-cabc-405d-e18f-bcc00bfa0c94",
        "colab": {
          "base_uri": "https://localhost:8080/"
        }
      },
      "execution_count": null,
      "outputs": [
        {
          "output_type": "stream",
          "name": "stdout",
          "text": [
            "12a14\n",
            "A\n",
            "A\n",
            "12\n"
          ]
        }
      ]
    },
    {
      "cell_type": "code",
      "source": [
        "# Matrix multiplication\n",
        "from scipy import linalg, sparse\n",
        "import numpy as np\n",
        "a = np.array([1,2,3])\n",
        "b = np.array([(1+5j,2j,3j), (4j,5j,6j)])\n",
        "c = np.array([[(1.5,2,3), (4,5,6)], [(3,2,1), (4,5,6)]])"
      ],
      "metadata": {
        "id": "cBQY0lZSikaR"
      },
      "execution_count": 9,
      "outputs": []
    },
    {
      "cell_type": "code",
      "source": [
        "a = np.mgrid[0:5,0:5] # Create a dense meshgrid\n",
        "b = np.ogrid[0:2,0:2] # Create an open meshgrid\n",
        "c = np.r_[3,[0]*5,-1:1:10j] # Stack arrays vertically (row-wise)\n",
        "#d = np.c_[b,c]\n",
        "c"
      ],
      "metadata": {
        "id": "uqnVKT8kipcO",
        "outputId": "59b2e335-889a-4ed0-ec8d-d42df3d85535",
        "colab": {
          "base_uri": "https://localhost:8080/"
        }
      },
      "execution_count": 16,
      "outputs": [
        {
          "output_type": "execute_result",
          "data": {
            "text/plain": [
              "array([ 3.        ,  0.        ,  0.        ,  0.        ,  0.        ,\n",
              "        0.        , -1.        , -0.77777778, -0.55555556, -0.33333333,\n",
              "       -0.11111111,  0.11111111,  0.33333333,  0.55555556,  0.77777778,\n",
              "        1.        ])"
            ]
          },
          "metadata": {},
          "execution_count": 16
        }
      ]
    },
    {
      "cell_type": "code",
      "source": [
        "a = np.transpose(b) #  Permute array dimensions\n",
        "b = b.flatten()  # Flatten the array\n",
        "c = np.hstack((b,c)) # Stack arrays horizontally (column-wise) \n",
        "d = np.vstack((a,b)) # Stack arrays vertically (row-wise)\n",
        "e = np.hsplit(c,2) # Split the array horizontally at the 2nd index \n",
        "f = np.vpslit(d,2)"
      ],
      "metadata": {
        "id": "kK2kXG69jjLB"
      },
      "execution_count": null,
      "outputs": []
    },
    {
      "cell_type": "code",
      "source": [
        "A = np.matrix(np.random.random((2,2)))\n",
        "B = np.asmatrix(c)\n",
        "C = np.mat(np.random.random((10,5)))\n",
        "D = np.mat([[3,4], [5,6]])\n",
        "B"
      ],
      "metadata": {
        "id": "Hd_-eSfUkD9f",
        "outputId": "f65f2996-864e-40cd-8c33-d29bdbb7108d",
        "colab": {
          "base_uri": "https://localhost:8080/"
        }
      },
      "execution_count": 17,
      "outputs": [
        {
          "output_type": "execute_result",
          "data": {
            "text/plain": [
              "matrix([[ 3.        ,  0.        ,  0.        ,  0.        ,  0.        ,\n",
              "          0.        , -1.        , -0.77777778, -0.55555556, -0.33333333,\n",
              "         -0.11111111,  0.11111111,  0.33333333,  0.55555556,  0.77777778,\n",
              "          1.        ]])"
            ]
          },
          "metadata": {},
          "execution_count": 17
        }
      ]
    }
  ]
}